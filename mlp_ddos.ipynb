{
  "nbformat": 4,
  "nbformat_minor": 0,
  "metadata": {
    "colab": {
      "provenance": [],
      "include_colab_link": true
    },
    "kernelspec": {
      "name": "python3",
      "display_name": "Python 3"
    },
    "language_info": {
      "name": "python"
    }
  },
  "cells": [
    {
      "cell_type": "markdown",
      "metadata": {
        "id": "view-in-github",
        "colab_type": "text"
      },
      "source": [
        "<a href=\"https://colab.research.google.com/github/MCoool/Detection-of-DDoS-Attacks-Using-Deep-Learning-Algorithms/blob/main/mlp_ddos.ipynb\" target=\"_parent\"><img src=\"https://colab.research.google.com/assets/colab-badge.svg\" alt=\"Open In Colab\"/></a>"
      ]
    },
    {
      "cell_type": "code",
      "execution_count": 1,
      "metadata": {
        "colab": {
          "base_uri": "https://localhost:8080/"
        },
        "id": "jB7P34hzcXhD",
        "outputId": "fd940a71-16cc-490a-dde1-b6dde0470169"
      },
      "outputs": [
        {
          "output_type": "stream",
          "name": "stdout",
          "text": [
            "Mounted at /content/drive\n"
          ]
        }
      ],
      "source": [
        "from google.colab import drive\n",
        "drive.mount('/content/drive')"
      ]
    },
    {
      "cell_type": "code",
      "source": [
        "Path = 'drive/My Drive/dataset'"
      ],
      "metadata": {
        "id": "rUk-B85AhImZ"
      },
      "execution_count": 2,
      "outputs": []
    },
    {
      "cell_type": "code",
      "execution_count": 3,
      "metadata": {
        "id": "3_zQbE2dwTZP"
      },
      "outputs": [],
      "source": [
        "import numpy as np\n",
        "import pandas as pd\n",
        "from sklearn.neural_network import MLPClassifier\n",
        "from sklearn.metrics import accuracy_score, confusion_matrix\n",
        "from sklearn.model_selection import train_test_split\n",
        "from sklearn.preprocessing import LabelEncoder\n",
        "from sklearn.impute import SimpleImputer\n",
        "from sklearn.ensemble import RandomForestRegressor\n",
        "from sklearn.preprocessing import StandardScaler\n",
        "from keras.models import Sequential\n",
        "from keras.layers import Dense\n",
        "from keras.layers import Dropout\n",
        "from sklearn.metrics import confusion_matrix\n",
        "from sklearn.metrics import accuracy_score, precision_score, recall_score, f1_score"
      ]
    },
    {
      "cell_type": "code",
      "source": [
        "# Load the network traffic data\n",
        "data = pd.read_csv('https://drive.google.com/file/d/1Mvb4hDfdv6MDI9-ICFPVGWdUJbPs9tO_/view?usp=sharing')\n",
        "\n",
        "# Preprocess the data\n",
        "le = LabelEncoder()\n",
        "label=le.fit_transform(data['Protocol'])\n",
        "data['Protocol']=label\n",
        "data = data.drop(data.columns[0], axis=1)\n",
        "data.describe()\n",
        "data=data.dropna()\n",
        "corr_matrix = data.corr()\n",
        "corr_matrix\n",
        "X = data[['Time','Protocol','Length']]\n",
        "y = data['Target']\n",
        "rf = RandomForestRegressor(n_estimators=100, random_state=42)\n",
        "rf.fit(X, y)\n",
        "importances = rf.feature_importances_\n",
        "indices = sorted(range(len(importances)), key=lambda i: importances[i], reverse=True)\n",
        "\n",
        "X=data[['Time','Length']]\n",
        "scaler = StandardScaler()\n",
        "X_scaled = scaler.fit_transform(X)\n",
        "X_scaled\n",
        "X\n",
        "y\n",
        "X_train,X_test,y_train,y_test= train_test_split(X,y,random_state=42,train_size=0.8)\n",
        "X_train = np.asarray(X_train)\n",
        "X_test= np.asarray(X_test)\n",
        "y_train=np.asarray(y_train)\n",
        "y_test=np.asarray(y_test)"
      ],
      "metadata": {
        "id": "gVAAze4hxKOC"
      },
      "execution_count": null,
      "outputs": []
    },
    {
      "cell_type": "code",
      "source": [
        "# Define the MLP model\n",
        "model = MLPClassifier(hidden_layer_sizes=(64, 32), activation='relu', solver='adam')\n",
        "\n",
        "# Train the model\n",
        "model.fit(X_train, y_train)\n",
        "\n",
        "# Make predictions on the testing set\n",
        "y_pred = model.predict(X_test)\n",
        "\n",
        "# Evaluate the model\n",
        "accuracy = accuracy_score(y_test, y_pred)\n",
        "confusion_mat = confusion_matrix(y_test, y_pred)\n",
        "print(\"Accuracy: %.2f%%\" % (accuracy*100))\n",
        "print(\"Confusion matrix:\\n\", confusion_mat)"
      ],
      "metadata": {
        "id": "ZZ4wZbaEx-8k",
        "colab": {
          "base_uri": "https://localhost:8080/"
        },
        "outputId": "c12b4d84-54da-479d-b3c3-3afea9c67049"
      },
      "execution_count": null,
      "outputs": [
        {
          "output_type": "stream",
          "name": "stdout",
          "text": [
            "Accuracy: 99.93%\n",
            "Confusion matrix:\n",
            " [[ 3358    43]\n",
            " [    0 60047]]\n"
          ]
        }
      ]
    },
    {
      "cell_type": "code",
      "source": [
        "# Define the sample input\n",
        "sample_input = np.array([[0, 11]])\n",
        "\n",
        "# Preprocess the sample input\n",
        "# ??-> sample_input_processed = scaler.transform(sample_input)\n",
        "\n",
        "# Make prediction on the sample input\n",
        "prediction = model.predict(sample_input)\n",
        "print(prediction)\n",
        "# Print the prediction\n",
        "if prediction == 1:\n",
        "    print(\"The input data is a DDoS attack.\")\n",
        "else:\n",
        "    print(\"The input data is not a DDoS attack.\")"
      ],
      "metadata": {
        "colab": {
          "base_uri": "https://localhost:8080/"
        },
        "id": "sBoni8Jv3qme",
        "outputId": "9fe8f793-94f2-41d0-dfd6-55575888061e"
      },
      "execution_count": null,
      "outputs": [
        {
          "output_type": "stream",
          "name": "stdout",
          "text": [
            "[0]\n",
            "The input data is not a DDoS attack.\n"
          ]
        },
        {
          "output_type": "stream",
          "name": "stderr",
          "text": [
            "/usr/local/lib/python3.9/dist-packages/sklearn/base.py:439: UserWarning: X does not have valid feature names, but StandardScaler was fitted with feature names\n",
            "  warnings.warn(\n"
          ]
        }
      ]
    },
    {
      "cell_type": "code",
      "source": [
        "import pickle"
      ],
      "metadata": {
        "id": "7NZnoFhjIVM3"
      },
      "execution_count": null,
      "outputs": []
    },
    {
      "cell_type": "code",
      "source": [
        "pickle.dump(model, open('/content/drive/MyDrive/Colab Notebooks/flask-deploy-model/model_pickle.pkl', 'wb'))"
      ],
      "metadata": {
        "id": "ocRbq0LHIZzI"
      },
      "execution_count": null,
      "outputs": []
    }
  ]
}